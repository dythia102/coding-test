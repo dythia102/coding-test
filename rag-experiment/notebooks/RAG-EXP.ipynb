{
 "cells": [
  {
   "cell_type": "code",
   "execution_count": 1,
   "id": "a0ee8fad-91fd-4206-8704-439e76099d7c",
   "metadata": {},
   "outputs": [],
   "source": [
    "from sentence_transformers import SentenceTransformer, util\n",
    "from transformers import pipeline\n",
    "import numpy as np\n",
    "\n",
    "# Define the small dataset (list of notes)\n",
    "notes = [\n",
    "    \"Photosynthesis occurs in plants. It uses sunlight to convert water and carbon dioxide into glucose and oxygen.\",\n",
    "    \"Chlorophyll is a green pigment in chloroplasts. It absorbs sunlight, mainly blue and red light, to power photosynthesis.\",\n",
    "    \"Glucose from photosynthesis is used for plant growth. Oxygen is a byproduct released into the air.\"\n",
    "]"
   ]
  }
 ],
 "metadata": {
  "kernelspec": {
   "display_name": "Python 3 (ipykernel)",
   "language": "python",
   "name": "python3"
  }
 },
 "nbformat": 4,
 "nbformat_minor": 5
}
