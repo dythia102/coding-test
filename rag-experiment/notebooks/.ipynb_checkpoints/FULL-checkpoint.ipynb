{
 "cells": [
  {
   "cell_type": "code",
   "execution_count": 7,
   "id": "253ac14c-67cf-48d3-bbbd-ed299e3294c7",
   "metadata": {},
   "outputs": [
    {
     "name": "stdout",
     "output_type": "stream",
     "text": [
      "Question: What is the genre of 1984?\n",
      "Answer: Fiction\n",
      "Question: What is the genre of Harry Potter\n",
      "Answer: Fiction\n",
      "Question: What is the genre of Ghost in the machine\n",
      "Answer: Fiction\n"
     ]
    }
   ],
   "source": [
    "import numpy as np\n",
    "\n",
    "# Step 1: Small dataset\n",
    "documents = [\n",
    "    \"Book: The Great Gatsby, Genre: Fiction\",\n",
    "    \"Book: To Kill a Mockingbird, Genre: Literature\",\n",
    "    \"Book: 1984, Genre: Horror\",\n",
    "    \"Book: Ghost in the machine, Genre: Philosphy\"\n",
    "]\n",
    "\n",
    "# Step 2: Simple embedding function (word frequency)\n",
    "def create_embedding(text):\n",
    "    # Split text into words, lowercase\n",
    "    words = text.lower().split()\n",
    "    # Common words for vector (fixed vocabulary for simplicity)\n",
    "    vocab = ['book', 'genre', 'fiction', 'dystopian', 'great', 'gatsby', 'mockingbird', '1984']\n",
    "    # Create vector: count occurrences of each vocab word\n",
    "    vector = np.zeros(len(vocab))\n",
    "    for i, word in enumerate(vocab):\n",
    "        vector[i] = words.count(word)\n",
    "    # Normalize vector\n",
    "    norm = np.linalg.norm(vector) or 1  # Avoid division by zero\n",
    "    return vector / norm\n",
    "\n",
    "# Create embeddings for all documents\n",
    "doc_vectors = [create_embedding(doc) for doc in documents]\n",
    "\n",
    "# Step 3: Process query\n",
    "query = \"What is the genre of 1984?\"\n",
    "query_vector = create_embedding(query)\n",
    "\n",
    "print(query_vector)\n",
    "# Step 4: Retrieve most relevant document (cosine similarity)\n",
    "def cosine_similarity(vec1, vec2):\n",
    "    return np.dot(vec1, vec2) / (np.linalg.norm(vec1) * np.linalg.norm(vec2) or 1)\n",
    "\n",
    "similarities = [cosine_similarity(query_vector, doc_vec) for doc_vec in doc_vectors]\n",
    "relevant_doc_index = np.argmax(similarities)\n",
    "relevant_doc = documents[relevant_doc_index]\n",
    "\n",
    "# Step 5: Generate answer (simple text parsing)\n",
    "def generate_answer(query, doc):\n",
    "    if \"genre\" in query.lower():\n",
    "        # Extract genre from document (e.g., \"Genre: Dystopian Fiction\")\n",
    "        parts = doc.split(\"Genre: \")\n",
    "        if len(parts) > 1:\n",
    "            return parts[1].strip()\n",
    "    return \"I don't know.\"\n",
    "\n",
    "answer = generate_answer(query, relevant_doc)\n",
    "print(f\"Question: {query}\")\n",
    "print(f\"Answer: {answer}\")\n",
    "\n",
    "query = \"What is the genre of Harry Potter\"\n",
    "answer = generate_answer(query, relevant_doc)\n",
    "print(f\"Question: {query}\")\n",
    "print(f\"Answer: {answer}\")\n",
    "\n",
    "query = \"What is the genre of Ghost in the machine\"\n",
    "answer = generate_answer(query, relevant_doc)\n",
    "print(f\"Question: {query}\")\n",
    "print(f\"Answer: {answer}\")"
   ]
  },
  {
   "cell_type": "code",
   "execution_count": null,
   "id": "818d94d0-6996-4fb9-aa6e-f54f1b966e18",
   "metadata": {},
   "outputs": [],
   "source": []
  }
 ],
 "metadata": {
  "kernelspec": {
   "display_name": "Python 3 (ipykernel)",
   "language": "python",
   "name": "python3"
  },
  "language_info": {
   "codemirror_mode": {
    "name": "ipython",
    "version": 3
   },
   "file_extension": ".py",
   "mimetype": "text/x-python",
   "name": "python",
   "nbconvert_exporter": "python",
   "pygments_lexer": "ipython3",
   "version": "3.10.12"
  }
 },
 "nbformat": 4,
 "nbformat_minor": 5
}
